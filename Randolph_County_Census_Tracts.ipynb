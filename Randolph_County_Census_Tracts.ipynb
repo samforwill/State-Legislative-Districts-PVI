{
 "cells": [
  {
   "cell_type": "code",
   "execution_count": 1,
   "id": "032783d8-80ea-4b7b-bd4d-4c8e202b400d",
   "metadata": {},
   "outputs": [],
   "source": [
    "import pandas as pd\n",
    "import numpy as np\n",
    "import re"
   ]
  },
  {
   "cell_type": "code",
   "execution_count": 2,
   "id": "77790ad6-f4ba-4e98-87bc-e8ef3b1d2eb7",
   "metadata": {},
   "outputs": [],
   "source": [
    "# Set pandas display options to show up to 100 rows\n",
    "pd.set_option('display.max_rows', 100)\n",
    "pd.set_option('display.max_colwidth', None)"
   ]
  },
  {
   "cell_type": "code",
   "execution_count": 3,
   "id": "d609d791-1a03-479c-b5ff-afcdfb4bdf7d",
   "metadata": {},
   "outputs": [],
   "source": [
    "data = pd.read_csv('data/randolph/ACSDP5Y2022.DP05-2024-04-20T180832.csv', dtype={'Line Number': str})"
   ]
  },
  {
   "cell_type": "code",
   "execution_count": null,
   "id": "5d19f061-1090-47d8-bfd6-44b0fadfd0d8",
   "metadata": {},
   "outputs": [],
   "source": [
    "# Load in Alabama DEMOGRAPHIC file for all districts\n",
    "\n",
    "data.rename(columns={\n",
    "    'GEONAME': 'District',\n",
    "    'Line Number': 'PROFLN',\n",
    "    'Title':'TITLE',\n",
    "    'Estimate': 'PRF_ESTIMATE',\n",
    "    'Percent Estimate':'PCT_ESTIMATE', \n",
    "    'Margin of Error': 'PRF_MG_ERROR',\n",
    "    'Percent Margin of Error': 'PCT_MG_ERROR'\n",
    "}, inplace=True)\n",
    "\n",
    "\n",
    "# make a dictionary of Line Number keys to Title values\n",
    "title_dict = dict(zip(data['PROFLN'], data['TITLE']))\n",
    "\n",
    "# convert the dictionary to dataframe and observe head 10 entries\n",
    "title_df = pd.DataFrame(list(title_dict.items()), columns=['PROFLN', 'TITLE'])\n",
    "title_df.head(10)"
   ]
  }
 ],
 "metadata": {
  "kernelspec": {
   "display_name": "Python 3 (ipykernel)",
   "language": "python",
   "name": "python3"
  },
  "language_info": {
   "codemirror_mode": {
    "name": "ipython",
    "version": 3
   },
   "file_extension": ".py",
   "mimetype": "text/x-python",
   "name": "python",
   "nbconvert_exporter": "python",
   "pygments_lexer": "ipython3",
   "version": "3.11.4"
  }
 },
 "nbformat": 4,
 "nbformat_minor": 5
}
